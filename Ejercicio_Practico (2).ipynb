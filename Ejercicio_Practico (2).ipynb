{
  "metadata": {
    "kernelspec": {
      "name": "python",
      "display_name": "Python (Pyodide)",
      "language": "python"
    },
    "language_info": {
      "codemirror_mode": {
        "name": "python",
        "version": 3
      },
      "file_extension": ".py",
      "mimetype": "text/x-python",
      "name": "python",
      "nbconvert_exporter": "python",
      "pygments_lexer": "ipython3",
      "version": "3.8"
    }
  },
  "nbformat_minor": 5,
  "nbformat": 4,
  "cells": [
    {
      "id": "17b6a81b",
      "cell_type": "markdown",
      "source": "# Mi Cuaderno de Ciencia de Datos",
      "metadata": {}
    },
    {
      "id": "7f207693",
      "cell_type": "markdown",
      "source": "## Introducción\nBienvenido a este cuaderno de práctica en Ciencia de Datos. Aquí encontrarás ejemplos básicos de conceptos importantes.",
      "metadata": {}
    },
    {
      "id": "5f07c9cb",
      "cell_type": "markdown",
      "source": "## Lenguajes de Programación en Ciencia de Datos\n1. Python\n2. R\n3. SQL\n4. Julia\n5. Scala",
      "metadata": {
        "jupyter": {
          "source_hidden": true
        }
      }
    },
    {
      "id": "d8e1399e",
      "cell_type": "markdown",
      "source": "## Bibliotecas de Ciencia de Datos\n- NumPy\n- Pandas\n- Matplotlib\n- Seaborn\n- Scikit-learn\n- TensorFlow",
      "metadata": {}
    },
    {
      "id": "52f2cb99",
      "cell_type": "markdown",
      "source": "## Herramientas de Ciencia de Datos\n\n| Herramienta     | Descripción                          |\n|-----------------|--------------------------------------|\n| Jupyter Notebook| Entorno interactivo para notebooks  |\n| RStudio         | IDE para el lenguaje R              |\n| GitHub          | Control de versiones y repositorios |\n| Google Colab    | Ejecución de notebooks en la nube   |\n",
      "metadata": {}
    },
    {
      "id": "ceb7aecd",
      "cell_type": "markdown",
      "source": "## Ejemplos de Expresiones Aritméticas\n- Suma: `2 + 2 = 4`\n- Resta: `10 - 4 = 6`\n- Multiplicación: `3 * 3 = 9`\n- División: `8 / 2 = 4`\n",
      "metadata": {}
    },
    {
      "id": "e9aa44f6",
      "cell_type": "code",
      "source": "# Multiplicar y sumar números\na = 5\nb = 3\n\nmultiplicacion = a * b\nsuma = a + b\n\nprint(\"Multiplicación:\", multiplicacion)\nprint(\"Suma:\", suma)",
      "metadata": {},
      "outputs": [],
      "execution_count": null
    },
    {
      "id": "da045277",
      "cell_type": "code",
      "source": "# Convertir minutos en horas\nminutos = 150\nhoras = minutos / 60\n\nprint(f\"{minutos} minutos equivalen a {horas} horas\")",
      "metadata": {},
      "outputs": [],
      "execution_count": null
    },
    {
      "id": "384f5b0c",
      "cell_type": "code",
      "source": "objetivos = [\n    \"Aprender Python\",\n    \"Manejar bibliotecas de ciencia de datos\",\n    \"Crear modelos de Machine Learning\",\n    \"Visualizar datos\",\n    \"Publicar el trabajo en GitHub\"\n]\n\nfor objetivo in objetivos:\n    print(f\"* {objetivo}\")",
      "metadata": {
        "trusted": true
      },
      "outputs": [
        {
          "name": "stdout",
          "output_type": "stream",
          "text": "* Aprender Python\n* Manejar bibliotecas de ciencia de datos\n* Crear modelos de Machine Learning\n* Visualizar datos\n* Publicar el trabajo en GitHub\n"
        }
      ],
      "execution_count": 2
    },
    {
      "id": "53b9c920",
      "cell_type": "markdown",
      "source": "### Autor\nVíctor Pizarro",
      "metadata": {}
    },
    {
      "id": "d52bde28-0df5-40b1-9e62-de871f18e0db",
      "cell_type": "code",
      "source": "",
      "metadata": {
        "trusted": true
      },
      "outputs": [],
      "execution_count": null
    },
    {
      "id": "9c2491b1",
      "cell_type": "markdown",
      "source": "[Ver cuaderno en GitHub](https://github.com/tu_usuario/tu_repositorio)",
      "metadata": {}
    },
    {
      "id": "a30aa1cb",
      "cell_type": "markdown",
      "source": "📸 *Toma la captura de la primera página de tu cuaderno para entregarla junto con este archivo.*",
      "metadata": {}
    }
  ]
}